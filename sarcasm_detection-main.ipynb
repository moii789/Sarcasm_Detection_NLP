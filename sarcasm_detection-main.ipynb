{
 "cells": [
  {
   "cell_type": "code",
   "execution_count": 1,
   "metadata": {},
   "outputs": [
    {
     "name": "stderr",
     "output_type": "stream",
     "text": [
      "Using TensorFlow backend.\n"
     ]
    }
   ],
   "source": [
    "import numpy as np\n",
    "import pandas as pd\n",
    "\n",
    "import collections\n",
    "import string\n",
    "import nltk\n",
    "import plotly.express as px\n",
    "\n",
    "from nltk.corpus import stopwords\n",
    "from collections import defaultdict\n",
    "from textblob import TextBlob\n",
    "\n",
    "from keras.preprocessing.text import one_hot, Tokenizer\n",
    "from keras.preprocessing.sequence import pad_sequences\n",
    "from keras.models import Sequential\n",
    "from keras.layers import Dense, Flatten, Embedding, LSTM, SpatialDropout1D, Input, Bidirectional,Dropout\n",
    "\n",
    "import matplotlib.pyplot as plt\n",
    "import seaborn as sns\n",
    "%matplotlib inline"
   ]
  },
  {
   "cell_type": "code",
   "execution_count": 2,
   "metadata": {},
   "outputs": [],
   "source": [
    "import json\n",
    "data = pd.read_json('/Users/mahima.sharma/Downloads/Sarcasm_Headlines_Dataset_v2.json', lines=True, orient='columns', encoding='utf-8')"
   ]
  },
  {
   "cell_type": "code",
   "execution_count": 3,
   "metadata": {},
   "outputs": [],
   "source": [
    "from sklearn.model_selection import train_test_split\n",
    "\n",
    "train_df, test_df = train_test_split(data, test_size = 0.3, random_state = 101)\n",
    "\n",
    "train_df = train_df.reset_index()\n",
    "train_df = train_df.drop('index', axis = 1)\n",
    "\n",
    "test_df = test_df.reset_index()\n",
    "test_df = test_df.drop('index', axis = 1)"
   ]
  },
  {
   "cell_type": "code",
   "execution_count": null,
   "metadata": {},
   "outputs": [],
   "source": []
  },
  {
   "cell_type": "markdown",
   "metadata": {},
   "source": [
    "<b><h2> 1. Exploratory Data Analysis and Visualization</h2></b>"
   ]
  },
  {
   "cell_type": "code",
   "execution_count": 4,
   "metadata": {},
   "outputs": [
    {
     "name": "stdout",
     "output_type": "stream",
     "text": [
      "There are 20033 rows and 3 columns in the training dataset\n",
      "There are 8586 rows and 3 columns in the testing dataset\n"
     ]
    }
   ],
   "source": [
    "print('There are {} rows and {} columns in the training dataset'.format(train_df.shape[0], train_df.shape[1]))\n",
    "print('There are {} rows and {} columns in the testing dataset'.format(test_df.shape[0], test_df.shape[1]))"
   ]
  },
  {
   "cell_type": "code",
   "execution_count": 5,
   "metadata": {},
   "outputs": [
    {
     "data": {
      "text/html": [
       "<div>\n",
       "<style scoped>\n",
       "    .dataframe tbody tr th:only-of-type {\n",
       "        vertical-align: middle;\n",
       "    }\n",
       "\n",
       "    .dataframe tbody tr th {\n",
       "        vertical-align: top;\n",
       "    }\n",
       "\n",
       "    .dataframe thead th {\n",
       "        text-align: right;\n",
       "    }\n",
       "</style>\n",
       "<table border=\"1\" class=\"dataframe\">\n",
       "  <thead>\n",
       "    <tr style=\"text-align: right;\">\n",
       "      <th></th>\n",
       "      <th>is_sarcastic</th>\n",
       "      <th>headline</th>\n",
       "      <th>article_link</th>\n",
       "    </tr>\n",
       "  </thead>\n",
       "  <tbody>\n",
       "    <tr>\n",
       "      <th>0</th>\n",
       "      <td>0</td>\n",
       "      <td>'very angry badger' seizes part of 500-year-ol...</td>\n",
       "      <td>https://www.huffingtonpost.com/entry/badger-ca...</td>\n",
       "    </tr>\n",
       "    <tr>\n",
       "      <th>1</th>\n",
       "      <td>1</td>\n",
       "      <td>comic-con opens with traditional superhero fly...</td>\n",
       "      <td>https://entertainment.theonion.com/comic-con-o...</td>\n",
       "    </tr>\n",
       "    <tr>\n",
       "      <th>2</th>\n",
       "      <td>0</td>\n",
       "      <td>against divestment -- why walking away won't m...</td>\n",
       "      <td>https://www.huffingtonpost.com/entry/against-d...</td>\n",
       "    </tr>\n",
       "    <tr>\n",
       "      <th>3</th>\n",
       "      <td>1</td>\n",
       "      <td>area 93-year-old has death-after-life experience</td>\n",
       "      <td>https://local.theonion.com/area-93-year-old-ha...</td>\n",
       "    </tr>\n",
       "    <tr>\n",
       "      <th>4</th>\n",
       "      <td>1</td>\n",
       "      <td>man excited to give visiting friends the real ...</td>\n",
       "      <td>https://www.theonion.com/man-excited-to-give-v...</td>\n",
       "    </tr>\n",
       "  </tbody>\n",
       "</table>\n",
       "</div>"
      ],
      "text/plain": [
       "   is_sarcastic                                           headline  \\\n",
       "0             0  'very angry badger' seizes part of 500-year-ol...   \n",
       "1             1  comic-con opens with traditional superhero fly...   \n",
       "2             0  against divestment -- why walking away won't m...   \n",
       "3             1   area 93-year-old has death-after-life experience   \n",
       "4             1  man excited to give visiting friends the real ...   \n",
       "\n",
       "                                        article_link  \n",
       "0  https://www.huffingtonpost.com/entry/badger-ca...  \n",
       "1  https://entertainment.theonion.com/comic-con-o...  \n",
       "2  https://www.huffingtonpost.com/entry/against-d...  \n",
       "3  https://local.theonion.com/area-93-year-old-ha...  \n",
       "4  https://www.theonion.com/man-excited-to-give-v...  "
      ]
     },
     "execution_count": 5,
     "metadata": {},
     "output_type": "execute_result"
    }
   ],
   "source": [
    "train_df.head()"
   ]
  },
  {
   "cell_type": "code",
   "execution_count": 6,
   "metadata": {},
   "outputs": [],
   "source": [
    "#The article link (HuffPost or The Onion) gives info on whether the title is sarcastic or not so we should drop it\n",
    "train_df = train_df.drop('article_link', axis = 1) \n",
    "test_df = test_df.drop('article_link', axis = 1) "
   ]
  },
  {
   "cell_type": "code",
   "execution_count": 7,
   "metadata": {},
   "outputs": [
    {
     "data": {
      "text/html": [
       "<div>\n",
       "<style scoped>\n",
       "    .dataframe tbody tr th:only-of-type {\n",
       "        vertical-align: middle;\n",
       "    }\n",
       "\n",
       "    .dataframe tbody tr th {\n",
       "        vertical-align: top;\n",
       "    }\n",
       "\n",
       "    .dataframe thead tr th {\n",
       "        text-align: left;\n",
       "    }\n",
       "\n",
       "    .dataframe thead tr:last-of-type th {\n",
       "        text-align: right;\n",
       "    }\n",
       "</style>\n",
       "<table border=\"1\" class=\"dataframe\">\n",
       "  <thead>\n",
       "    <tr>\n",
       "      <th></th>\n",
       "      <th colspan=\"4\" halign=\"left\">headline</th>\n",
       "    </tr>\n",
       "    <tr>\n",
       "      <th></th>\n",
       "      <th>count</th>\n",
       "      <th>unique</th>\n",
       "      <th>top</th>\n",
       "      <th>freq</th>\n",
       "    </tr>\n",
       "    <tr>\n",
       "      <th>is_sarcastic</th>\n",
       "      <th></th>\n",
       "      <th></th>\n",
       "      <th></th>\n",
       "      <th></th>\n",
       "    </tr>\n",
       "  </thead>\n",
       "  <tbody>\n",
       "    <tr>\n",
       "      <th>0</th>\n",
       "      <td>10495</td>\n",
       "      <td>10472</td>\n",
       "      <td>sunday roundup</td>\n",
       "      <td>10</td>\n",
       "    </tr>\n",
       "    <tr>\n",
       "      <th>1</th>\n",
       "      <td>9538</td>\n",
       "      <td>9490</td>\n",
       "      <td>'no way to prevent this,' says only nation whe...</td>\n",
       "      <td>10</td>\n",
       "    </tr>\n",
       "  </tbody>\n",
       "</table>\n",
       "</div>"
      ],
      "text/plain": [
       "             headline         \\\n",
       "                count unique   \n",
       "is_sarcastic                   \n",
       "0               10495  10472   \n",
       "1                9538   9490   \n",
       "\n",
       "                                                                      \n",
       "                                                            top freq  \n",
       "is_sarcastic                                                          \n",
       "0                                                sunday roundup   10  \n",
       "1             'no way to prevent this,' says only nation whe...   10  "
      ]
     },
     "execution_count": 7,
     "metadata": {},
     "output_type": "execute_result"
    }
   ],
   "source": [
    "train_df.groupby('is_sarcastic').describe()"
   ]
  },
  {
   "cell_type": "markdown",
   "metadata": {},
   "source": [
    "<h4>Count of Target Variable </h4>"
   ]
  },
  {
   "cell_type": "code",
   "execution_count": 8,
   "metadata": {},
   "outputs": [],
   "source": [
    "sarcastic = train_df[train_df['is_sarcastic'] == 1].shape[0]\n",
    "normal = train_df[train_df['is_sarcastic'] == 0].shape[0]"
   ]
  },
  {
   "cell_type": "code",
   "execution_count": 9,
   "metadata": {},
   "outputs": [
    {
     "data": {
      "text/plain": [
       "<BarContainer object of 1 artists>"
      ]
     },
     "execution_count": 9,
     "metadata": {},
     "output_type": "execute_result"
    },
    {
     "data": {
      "image/png": "[encoded data removed]",
      "text/plain": [
       "<Figure size 432x288 with 1 Axes>"
      ]
     },
     "metadata": {
      "needs_background": "light"
     },
     "output_type": "display_data"
    }
   ],
   "source": [
    "plt.bar('sarcastic', sarcastic, alpha = 0.7)\n",
    "plt.bar('normal', normal, color = 'r', alpha = 0.5)"
   ]
  },
  {
   "cell_type": "markdown",
   "metadata": {},
   "source": [
    "<h4>Length of titles </h4>"
   ]
  },
  {
   "cell_type": "code",
   "execution_count": 10,
   "metadata": {},
   "outputs": [],
   "source": [
    "len_nor = train_df[train_df['is_sarcastic'] == 0]['headline'].str.len()\n",
    "len_sar = train_df[train_df['is_sarcastic'] == 1]['headline'].str.len()"
   ]
  },
  {
   "cell_type": "code",
   "execution_count": 11,
   "metadata": {},
   "outputs": [
    {
     "data": {
      "text/plain": [
       "Text(0.5, 1.0, 'Normal Titles')"
      ]
     },
     "execution_count": 11,
     "metadata": {},
     "output_type": "execute_result"
    },
    {
     "data": {
      "image/png": "[encoded data removed]",
      "text/plain": [
       "<Figure size 576x432 with 2 Axes>"
      ]
     },
     "metadata": {
      "needs_background": "light"
     },
     "output_type": "display_data"
    }
   ],
   "source": [
    "fig, axes = plt.subplots(1,2, figsize = (8,6), sharey = True, sharex = True)\n",
    "axes[0].hist(len_sar, alpha = 0.7, bins = 30)\n",
    "axes[0].set_title('Sarcastic Titles')\n",
    "axes[1].hist(len_nor, color = 'r', alpha = 0.5, bins = 30)\n",
    "axes[1].set_title('Normal Titles')"
   ]
  },
  {
   "cell_type": "markdown",
   "metadata": {},
   "source": [
    "Sarcastic headlines have length up to around 200 whereas non sarcastic headlines have length of atmost 150"
   ]
  },
  {
   "cell_type": "markdown",
   "metadata": {},
   "source": [
    "<h4>Number of words in each type of headline</h4>"
   ]
  },
  {
   "cell_type": "code",
   "execution_count": 12,
   "metadata": {},
   "outputs": [],
   "source": [
    "words_sarcastic = train_df[train_df['is_sarcastic'] == 1]['headline'].str.split().map(lambda x : len(x))\n",
    "words_normal = train_df[train_df['is_sarcastic'] == 0]['headline'].str.split().map(lambda x : len(x))"
   ]
  },
  {
   "cell_type": "code",
   "execution_count": 13,
   "metadata": {},
   "outputs": [
    {
     "data": {
      "text/plain": [
       "Text(0.5, 1.0, 'Normal Titles')"
      ]
     },
     "execution_count": 13,
     "metadata": {},
     "output_type": "execute_result"
    },
    {
     "data": {
      "image/png": "[encoded data removed]",
      "text/plain": [
       "<Figure size 576x432 with 2 Axes>"
      ]
     },
     "metadata": {
      "needs_background": "light"
     },
     "output_type": "display_data"
    }
   ],
   "source": [
    "fig, axes = plt.subplots(1,2, figsize = (8,6), sharey = True, sharex = True)\n",
    "axes[0].hist(words_sarcastic, alpha = 0.7, bins = 30)\n",
    "axes[0].set_title('Sarcastic Titles')\n",
    "axes[1].hist(words_normal, color = 'r', alpha = 0.5, bins = 30)\n",
    "axes[1].set_title('Normal Titles')"
   ]
  },
  {
   "cell_type": "markdown",
   "metadata": {},
   "source": [
    "Both types of titles have around 25 words in the title"
   ]
  },
  {
   "cell_type": "markdown",
   "metadata": {},
   "source": [
    "<h4>Most common words </h4>"
   ]
  },
  {
   "cell_type": "code",
   "execution_count": 14,
   "metadata": {},
   "outputs": [],
   "source": [
    "def corpus(num):\n",
    "    corpus = []\n",
    "    for sentence_list in train_df[train_df['is_sarcastic'] == num]['headline'].str.split():\n",
    "        for word in sentence_list:\n",
    "            corpus.append(word)\n",
    "    return corpus"
   ]
  },
  {
   "cell_type": "code",
   "execution_count": 15,
   "metadata": {},
   "outputs": [],
   "source": [
    "corpus_sar = corpus(1)\n",
    "corpus_nor = corpus(0)"
   ]
  },
  {
   "cell_type": "code",
   "execution_count": 16,
   "metadata": {},
   "outputs": [],
   "source": [
    "common_sar = defaultdict(int)\n",
    "\n",
    "for word in corpus_sar:\n",
    "    if word not in stopwords.words('english'):\n",
    "        common_sar[word] +=1"
   ]
  },
  {
   "cell_type": "code",
   "execution_count": 17,
   "metadata": {},
   "outputs": [
    {
     "data": {
      "image/png": "[encoded data removed]",
      "text/plain": [
       "<Figure size 432x288 with 1 Axes>"
      ]
     },
     "metadata": {
      "needs_background": "light"
     },
     "output_type": "display_data"
    }
   ],
   "source": [
    "sar_list = sorted(common_sar.items(), key = lambda x : x[1], reverse = True)[:10]\n",
    "x, y = zip(*sar_list)\n",
    "plt.bar(x,y, alpha = 0.7)\n",
    "plt.title('10 most common words in sarcastic news (exclusing stopwords)')\n",
    "plt.tight_layout()"
   ]
  },
  {
   "cell_type": "code",
   "execution_count": 18,
   "metadata": {},
   "outputs": [],
   "source": [
    "common_nor = defaultdict(int)\n",
    "\n",
    "for word in corpus_nor:\n",
    "    if word not in stopwords.words('english'):\n",
    "        common_nor[word] +=1"
   ]
  },
  {
   "cell_type": "code",
   "execution_count": 19,
   "metadata": {},
   "outputs": [],
   "source": [
    "nor_list = sorted(common_nor.items(), key = lambda x : x[1], reverse = True)[:10]"
   ]
  },
  {
   "cell_type": "code",
   "execution_count": 20,
   "metadata": {},
   "outputs": [
    {
     "data": {
      "image/png": "[encoded data removed]",
      "text/plain": [
       "<Figure size 432x288 with 1 Axes>"
      ]
     },
     "metadata": {
      "needs_background": "light"
     },
     "output_type": "display_data"
    }
   ],
   "source": [
    "nor_list = sorted(common_nor.items(), key = lambda x : x[1], reverse = True)[:10]\n",
    "x, y = zip(*nor_list)\n",
    "plt.bar(x,y, color = 'r',alpha = 0.5)\n",
    "plt.title('10 most common words in normal news (exclusing stopwords)')\n",
    "plt.tight_layout()"
   ]
  },
  {
   "cell_type": "markdown",
   "metadata": {},
   "source": [
    "<h4> Most common punctuation </h4>"
   ]
  },
  {
   "cell_type": "code",
   "execution_count": 21,
   "metadata": {},
   "outputs": [],
   "source": [
    "punc_sar = defaultdict(int)\n",
    "\n",
    "for word in corpus_sar:\n",
    "    if word in string.punctuation:\n",
    "        punc_sar[word] +=1"
   ]
  },
  {
   "cell_type": "code",
   "execution_count": 22,
   "metadata": {},
   "outputs": [
    {
     "data": {
      "text/plain": [
       "<BarContainer object of 3 artists>"
      ]
     },
     "execution_count": 22,
     "metadata": {},
     "output_type": "execute_result"
    },
    {
     "data": {
      "image/png": "[encoded data removed]",
      "text/plain": [
       "<Figure size 432x288 with 1 Axes>"
      ]
     },
     "metadata": {
      "needs_background": "light"
     },
     "output_type": "display_data"
    }
   ],
   "source": [
    "x,y = zip(*sorted(punc_sar.items(), key = lambda x : x[1], reverse = True))\n",
    "plt.title('Most common punctuation in sarcastic news')\n",
    "plt.bar(x,y, alpha = 0.7)"
   ]
  },
  {
   "cell_type": "code",
   "execution_count": 23,
   "metadata": {},
   "outputs": [],
   "source": [
    "punc_nor = defaultdict(int)\n",
    "\n",
    "for word in corpus_nor:\n",
    "    if word in string.punctuation:\n",
    "        punc_nor[word] +=1"
   ]
  },
  {
   "cell_type": "code",
   "execution_count": 24,
   "metadata": {},
   "outputs": [
    {
     "data": {
      "text/plain": [
       "<BarContainer object of 8 artists>"
      ]
     },
     "execution_count": 24,
     "metadata": {},
     "output_type": "execute_result"
    },
    {
     "data": {
      "image/png": "[encoded data removed]",
      "text/plain": [
       "<Figure size 432x288 with 1 Axes>"
      ]
     },
     "metadata": {
      "needs_background": "light"
     },
     "output_type": "display_data"
    }
   ],
   "source": [
    "x,y = zip(*sorted(punc_nor.items(), key = lambda x : x[1], reverse = True))\n",
    "plt.title('Most common punctuation in normal news')\n",
    "plt.bar(x,y, color = 'r', alpha = 0.5)"
   ]
  },
  {
   "cell_type": "markdown",
   "metadata": {},
   "source": [
    "Normal headlines utilize a wider range of punctuation"
   ]
  },
  {
   "cell_type": "markdown",
   "metadata": {},
   "source": [
    "<h4> Sentiment Analysis of Headlines </h4>"
   ]
  },
  {
   "cell_type": "code",
   "execution_count": 25,
   "metadata": {},
   "outputs": [],
   "source": [
    "polarity_sar = train_df[train_df['is_sarcastic'] == 1]['headline'].map(lambda text : TextBlob(text).sentiment.polarity)"
   ]
  },
  {
   "cell_type": "code",
   "execution_count": 26,
   "metadata": {},
   "outputs": [
    {
     "data": {
      "text/plain": [
       "Text(0.5, 1.0, 'Sentiment of sarcastic titles')"
      ]
     },
     "execution_count": 26,
     "metadata": {},
     "output_type": "execute_result"
    },
    {
     "data": {
      "image/png": "[encoded data removed]",
      "text/plain": [
       "<Figure size 720x576 with 1 Axes>"
      ]
     },
     "metadata": {
      "needs_background": "light"
     },
     "output_type": "display_data"
    }
   ],
   "source": [
    "plt.figure(figsize = (10,8))\n",
    "plt.hist(polarity_sar, bins = 30, alpha = 0.7)\n",
    "plt.title('Sentiment of sarcastic titles')"
   ]
  },
  {
   "cell_type": "code",
   "execution_count": 27,
   "metadata": {},
   "outputs": [],
   "source": [
    "polarity_nor = train_df[train_df['is_sarcastic'] == 0]['headline'].map(lambda text : TextBlob(text).sentiment.polarity)"
   ]
  },
  {
   "cell_type": "code",
   "execution_count": 28,
   "metadata": {},
   "outputs": [
    {
     "data": {
      "text/plain": [
       "Text(0.5, 1.0, 'Sentiment of normal titles')"
      ]
     },
     "execution_count": 28,
     "metadata": {},
     "output_type": "execute_result"
    },
    {
     "data": {
      "image/png": "[encoded data removed]",
      "text/plain": [
       "<Figure size 720x576 with 1 Axes>"
      ]
     },
     "metadata": {
      "needs_background": "light"
     },
     "output_type": "display_data"
    }
   ],
   "source": [
    "plt.figure(figsize = (10,8))\n",
    "plt.hist(polarity_nor, bins = 30, color = 'r', alpha = 0.5)\n",
    "plt.title('Sentiment of normal titles')"
   ]
  },
  {
   "cell_type": "markdown",
   "metadata": {},
   "source": [
    "There is no strong negative or positive inclination in both normal and sarcastic titles "
   ]
  },
  {
   "cell_type": "markdown",
   "metadata": {},
   "source": [
    "<h2><b> 2. Data Cleaning </b></h2>"
   ]
  },
  {
   "cell_type": "markdown",
   "metadata": {},
   "source": [
    "<h3>2a. Normalization and Tokenization<h3>"
   ]
  },
  {
   "cell_type": "raw",
   "metadata": {},
   "source": [
    ">First convert all text to lower case \n",
    ">Remove punctuation"
   ]
  },
  {
   "cell_type": "code",
   "execution_count": 29,
   "metadata": {},
   "outputs": [],
   "source": [
    "def process(sentence): \n",
    "    return [word.lower() for word in sentence.split() if word not in string.punctuation]\n",
    "        "
   ]
  },
  {
   "cell_type": "code",
   "execution_count": 30,
   "metadata": {},
   "outputs": [],
   "source": [
    "train_df['headline'] = train_df['headline'].apply(lambda x : process(x))\n",
    "test_df['headline'] = test_df['headline'].apply(lambda x : process(x))"
   ]
  },
  {
   "cell_type": "code",
   "execution_count": 31,
   "metadata": {},
   "outputs": [
    {
     "data": {
      "text/plain": [
       "0        ['very, angry, badger', seizes, part, of, 500-...\n",
       "1        [comic-con, opens, with, traditional, superher...\n",
       "2        [against, divestment, --, why, walking, away, ...\n",
       "3        [area, 93-year-old, has, death-after-life, exp...\n",
       "4        [man, excited, to, give, visiting, friends, th...\n",
       "                               ...                        \n",
       "20028    [most, humiliating, experience, of, man's, lif...\n",
       "20029                           [subscribing, to, success]\n",
       "20030    [nom, funneled, millions, to, fight, maine, ma...\n",
       "20031    [cdc, announces, americans, should, make, plan...\n",
       "20032    [disturbingly, deep, voice, emanates, from, mi...\n",
       "Name: headline, Length: 20033, dtype: object"
      ]
     },
     "execution_count": 31,
     "metadata": {},
     "output_type": "execute_result"
    }
   ],
   "source": [
    "train_df['headline']"
   ]
  },
  {
   "cell_type": "raw",
   "metadata": {},
   "source": [
    "#Look into regex"
   ]
  },
  {
   "cell_type": "markdown",
   "metadata": {},
   "source": [
    "<h3>2b. Stop Word Removal<h3>"
   ]
  },
  {
   "cell_type": "code",
   "execution_count": 32,
   "metadata": {},
   "outputs": [],
   "source": [
    "def process(sentence_list):\n",
    "    return [word for word in sentence_list if word not in stopwords.words('english')]"
   ]
  },
  {
   "cell_type": "code",
   "execution_count": 33,
   "metadata": {},
   "outputs": [],
   "source": [
    "train_df['headline'] = train_df['headline'].apply(lambda x : process(x))\n",
    "test_df['headline'] = test_df['headline'].apply(lambda x : process(x))"
   ]
  },
  {
   "cell_type": "code",
   "execution_count": 34,
   "metadata": {},
   "outputs": [
    {
     "data": {
      "text/plain": [
       "0        ['very, angry, badger', seizes, part, 500-year...\n",
       "1        [comic-con, opens, traditional, superhero, fly...\n",
       "2        [divestment, --, walking, away, make, difference]\n",
       "3        [area, 93-year-old, death-after-life, experience]\n",
       "4        [man, excited, give, visiting, friends, real, ...\n",
       "                               ...                        \n",
       "20028    [humiliating, experience, man's, life, dvd, ma...\n",
       "20029                               [subscribing, success]\n",
       "20030    [nom, funneled, millions, fight, maine, marria...\n",
       "20031    [cdc, announces, americans, make, plans, say, ...\n",
       "20032    [disturbingly, deep, voice, emanates, minnie, ...\n",
       "Name: headline, Length: 20033, dtype: object"
      ]
     },
     "execution_count": 34,
     "metadata": {},
     "output_type": "execute_result"
    }
   ],
   "source": [
    "train_df['headline']"
   ]
  },
  {
   "cell_type": "markdown",
   "metadata": {},
   "source": [
    "<h3> 2c. Lemmatization </h3>"
   ]
  },
  {
   "cell_type": "code",
   "execution_count": 35,
   "metadata": {},
   "outputs": [],
   "source": [
    "from nltk.stem import WordNetLemmatizer "
   ]
  },
  {
   "cell_type": "code",
   "execution_count": 36,
   "metadata": {},
   "outputs": [],
   "source": [
    "from nltk.corpus import wordnet\n",
    "def get_wordnet_pos(word):\n",
    "    first_char = nltk.pos_tag(word)[0][1][0].upper()\n",
    "    tag_dict = {\n",
    "        'J' : wordnet.ADJ,\n",
    "        'N' : wordnet.NOUN,\n",
    "        'V' : wordnet.VERB,\n",
    "        'R' : wordnet.ADV, \n",
    "        #'P' : wordnet.ADJ\n",
    "    }\n",
    "    return tag_dict.get(first_char, wordnet.NOUN)"
   ]
  },
  {
   "cell_type": "code",
   "execution_count": 37,
   "metadata": {},
   "outputs": [],
   "source": [
    "def lemmatization(list):\n",
    "    \n",
    "    return [lemmatizer.lemmatize(word, get_wordnet_pos([word])) for word in list]\n",
    "        "
   ]
  },
  {
   "cell_type": "code",
   "execution_count": 38,
   "metadata": {},
   "outputs": [],
   "source": [
    "lemmatizer = WordNetLemmatizer() \n",
    "train_df['headline'] = train_df['headline'].apply(lambda sentence : lemmatization(sentence))\n",
    "test_df['headline'] = test_df['headline'].apply(lambda sentence : lemmatization(sentence))"
   ]
  },
  {
   "cell_type": "code",
   "execution_count": 39,
   "metadata": {},
   "outputs": [
    {
     "data": {
      "text/plain": [
       "0        ['very, angry, badger', seizes, part, 500-year...\n",
       "1        [comic-con, open, traditional, superhero, flyo...\n",
       "2           [divestment, --, walk, away, make, difference]\n",
       "3        [area, 93-year-old, death-after-life, experience]\n",
       "4        [man, excite, give, visit, friend, real, fort,...\n",
       "                               ...                        \n",
       "20028    [humiliate, experience, man's, life, dvd, marc...\n",
       "20029                                 [subscribe, success]\n",
       "20030    [nom, funnel, million, fight, maine, marriage,...\n",
       "20031    [cdc, announces, american, make, plan, say, go...\n",
       "20032    [disturbingly, deep, voice, emanates, minnie, ...\n",
       "Name: headline, Length: 20033, dtype: object"
      ]
     },
     "execution_count": 39,
     "metadata": {},
     "output_type": "execute_result"
    }
   ],
   "source": [
    "train_df['headline']"
   ]
  },
  {
   "cell_type": "markdown",
   "metadata": {},
   "source": [
    "<h2> 3. Word Cloud </h2>"
   ]
  },
  {
   "cell_type": "markdown",
   "metadata": {},
   "source": [
    "<b>Wordclouds show how important a word is. More frequent words occupy greater space </b>"
   ]
  },
  {
   "cell_type": "code",
   "execution_count": 40,
   "metadata": {},
   "outputs": [],
   "source": [
    "def clean_corpus(num):\n",
    "    corpus = []\n",
    "    for sentence_list in train_df[train_df['is_sarcastic'] == num]['headline']:\n",
    "        for word in sentence_list:\n",
    "            corpus.append(word)\n",
    "    return corpus"
   ]
  },
  {
   "cell_type": "code",
   "execution_count": 41,
   "metadata": {},
   "outputs": [],
   "source": [
    "corpus_sar = clean_corpus(1)"
   ]
  },
  {
   "cell_type": "code",
   "execution_count": 42,
   "metadata": {},
   "outputs": [],
   "source": [
    "corpus_nor = clean_corpus(0)"
   ]
  },
  {
   "cell_type": "code",
   "execution_count": 43,
   "metadata": {},
   "outputs": [
    {
     "data": {
      "text/plain": [
       "73923"
      ]
     },
     "execution_count": 43,
     "metadata": {},
     "output_type": "execute_result"
    }
   ],
   "source": [
    "len(corpus_sar)"
   ]
  },
  {
   "cell_type": "code",
   "execution_count": 44,
   "metadata": {},
   "outputs": [
    {
     "data": {
      "text/plain": [
       "72687"
      ]
     },
     "execution_count": 44,
     "metadata": {},
     "output_type": "execute_result"
    }
   ],
   "source": [
    "len(corpus_nor)"
   ]
  },
  {
   "cell_type": "code",
   "execution_count": 45,
   "metadata": {},
   "outputs": [
    {
     "data": {
      "image/png": "[encoded data removed]",
      "text/plain": [
       "<Figure size 864x576 with 1 Axes>"
      ]
     },
     "metadata": {
      "needs_background": "light"
     },
     "output_type": "display_data"
    }
   ],
   "source": [
    "from wordcloud import WordCloud\n",
    "\n",
    "plt.figure(figsize = (12,8))\n",
    "\n",
    "word_cloud = WordCloud(background_color = 'black', max_font_size = 80).generate(\" \".join(corpus_sar))\n",
    "\n",
    "plt.imshow(word_cloud)\n",
    "plt.axis('off')\n",
    "plt.show()"
   ]
  },
  {
   "cell_type": "markdown",
   "metadata": {},
   "source": [
    "Man is the most frequent word in sarcastic headlines"
   ]
  },
  {
   "cell_type": "code",
   "execution_count": 46,
   "metadata": {},
   "outputs": [
    {
     "data": {
      "image/png": "[encoded data removed]",
      "text/plain": [
       "<Figure size 864x576 with 1 Axes>"
      ]
     },
     "metadata": {
      "needs_background": "light"
     },
     "output_type": "display_data"
    }
   ],
   "source": [
    "from wordcloud import WordCloud\n",
    "\n",
    "plt.figure(figsize = (12,8))\n",
    "\n",
    "word_cloud = WordCloud(background_color = 'black', max_font_size = 80).generate(\" \".join(corpus_nor))\n",
    "\n",
    "plt.imshow(word_cloud)\n",
    "plt.axis('off')\n",
    "plt.show()"
   ]
  },
  {
   "cell_type": "markdown",
   "metadata": {},
   "source": [
    "Trump is the most frequent word in normal headlines"
   ]
  },
  {
   "cell_type": "markdown",
   "metadata": {},
   "source": [
    "<h2>4. BAG OF WORDS </h2>"
   ]
  },
  {
   "cell_type": "raw",
   "metadata": {},
   "source": [
    "counting the number of appearances of each word in a document\n",
    "\n",
    ">> Train and test vectors need to use the same set of tokens so use fit_transform() for training set and transform() for the testing set. "
   ]
  },
  {
   "cell_type": "code",
   "execution_count": 47,
   "metadata": {},
   "outputs": [],
   "source": [
    "def clean_corpus_total(sentence):\n",
    "    return \" \".join(sentence)"
   ]
  },
  {
   "cell_type": "code",
   "execution_count": 48,
   "metadata": {},
   "outputs": [],
   "source": [
    "X_train = train_df['headline'].apply(lambda sentence : clean_corpus_total(sentence)).to_numpy()"
   ]
  },
  {
   "cell_type": "code",
   "execution_count": 49,
   "metadata": {},
   "outputs": [],
   "source": [
    "X_test = test_df['headline'].apply(lambda sentence : clean_corpus_total(sentence)).to_numpy()"
   ]
  },
  {
   "cell_type": "code",
   "execution_count": 50,
   "metadata": {},
   "outputs": [],
   "source": [
    "y_train = train_df['is_sarcastic'].to_numpy()\n",
    "y_test = test_df['is_sarcastic'].to_numpy()"
   ]
  },
  {
   "cell_type": "code",
   "execution_count": 51,
   "metadata": {},
   "outputs": [],
   "source": [
    "from sklearn.feature_extraction.text import CountVectorizer\n",
    "\n",
    "vectorizer = CountVectorizer()\n",
    "vector_train = vectorizer.fit_transform(X_train)\n",
    "vector_test = vectorizer.transform(X_test)"
   ]
  },
  {
   "cell_type": "code",
   "execution_count": 52,
   "metadata": {},
   "outputs": [],
   "source": [
    "from sklearn.naive_bayes import MultinomialNB\n",
    "\n",
    "mnb = MultinomialNB()\n",
    "mnb.fit(vector_train,y_train)\n",
    "mnb_prediction = mnb.predict(vector_test)"
   ]
  },
  {
   "cell_type": "code",
   "execution_count": 53,
   "metadata": {},
   "outputs": [
    {
     "name": "stdout",
     "output_type": "stream",
     "text": [
      "[[3607  883]\n",
      " [ 900 3196]]\n",
      "              precision    recall  f1-score   support\n",
      "\n",
      "           0       0.80      0.80      0.80      4490\n",
      "           1       0.78      0.78      0.78      4096\n",
      "\n",
      "    accuracy                           0.79      8586\n",
      "   macro avg       0.79      0.79      0.79      8586\n",
      "weighted avg       0.79      0.79      0.79      8586\n",
      "\n"
     ]
    }
   ],
   "source": [
    "from sklearn.metrics import confusion_matrix, classification_report\n",
    "\n",
    "print(confusion_matrix(y_test, mnb_prediction))\n",
    "print(classification_report(y_test, mnb_prediction))"
   ]
  },
  {
   "cell_type": "code",
   "execution_count": 54,
   "metadata": {},
   "outputs": [
    {
     "data": {
      "text/plain": [
       "0"
      ]
     },
     "execution_count": 54,
     "metadata": {},
     "output_type": "execute_result"
    }
   ],
   "source": [
    "mnb_prediction[345]"
   ]
  },
  {
   "cell_type": "code",
   "execution_count": 55,
   "metadata": {},
   "outputs": [
    {
     "data": {
      "text/plain": [
       "1"
      ]
     },
     "execution_count": 55,
     "metadata": {},
     "output_type": "execute_result"
    }
   ],
   "source": [
    "y_test[345]"
   ]
  },
  {
   "cell_type": "code",
   "execution_count": 56,
   "metadata": {},
   "outputs": [
    {
     "data": {
      "text/plain": [
       "'gwyneth paltrow report news'"
      ]
     },
     "execution_count": 56,
     "metadata": {},
     "output_type": "execute_result"
    }
   ],
   "source": [
    "X_test[345]"
   ]
  },
  {
   "cell_type": "markdown",
   "metadata": {},
   "source": [
    "<h2> 5. TF-IDF </h2>"
   ]
  },
  {
   "cell_type": "raw",
   "metadata": {},
   "source": [
    ">>Vectorization technique to measure originality of a word \n",
    ">> TF: Term Frequency in a document\n",
    ">> IDF: Frequency of the word across all documents \n",
    ">> tf * log(N/df) where N is the total number of documents"
   ]
  },
  {
   "cell_type": "code",
   "execution_count": 57,
   "metadata": {},
   "outputs": [],
   "source": [
    "from sklearn.feature_extraction.text import TfidfVectorizer\n",
    "\n",
    "vectorizer = TfidfVectorizer()\n",
    "vector_train = vectorizer.fit_transform(X_train)\n",
    "vector_test = vectorizer.transform(X_test)"
   ]
  },
  {
   "cell_type": "code",
   "execution_count": 58,
   "metadata": {},
   "outputs": [],
   "source": [
    "from sklearn.naive_bayes import MultinomialNB\n",
    "\n",
    "mnb = MultinomialNB()\n",
    "mnb.fit(vector_train,y_train)\n",
    "mnb_prediction = mnb.predict(vector_test)"
   ]
  },
  {
   "cell_type": "code",
   "execution_count": 59,
   "metadata": {},
   "outputs": [
    {
     "name": "stdout",
     "output_type": "stream",
     "text": [
      "[[3767  723]\n",
      " [1064 3032]]\n",
      "              precision    recall  f1-score   support\n",
      "\n",
      "           0       0.78      0.84      0.81      4490\n",
      "           1       0.81      0.74      0.77      4096\n",
      "\n",
      "    accuracy                           0.79      8586\n",
      "   macro avg       0.79      0.79      0.79      8586\n",
      "weighted avg       0.79      0.79      0.79      8586\n",
      "\n"
     ]
    }
   ],
   "source": [
    "print(confusion_matrix(y_test, mnb_prediction))\n",
    "print(classification_report(y_test, mnb_prediction))"
   ]
  },
  {
   "cell_type": "code",
   "execution_count": 60,
   "metadata": {},
   "outputs": [
    {
     "data": {
      "text/plain": [
       "0"
      ]
     },
     "execution_count": 60,
     "metadata": {},
     "output_type": "execute_result"
    }
   ],
   "source": [
    "mnb_prediction[345]"
   ]
  },
  {
   "cell_type": "code",
   "execution_count": 61,
   "metadata": {},
   "outputs": [
    {
     "data": {
      "text/plain": [
       "1"
      ]
     },
     "execution_count": 61,
     "metadata": {},
     "output_type": "execute_result"
    }
   ],
   "source": [
    "y_test[345]"
   ]
  },
  {
   "cell_type": "markdown",
   "metadata": {},
   "source": [
    "<h2> 6. Word2Vec </h2>"
   ]
  },
  {
   "cell_type": "raw",
   "metadata": {},
   "source": [
    "CBOW - uses context to predict current word\n",
    "SG - uses current word to predict context \n",
    "\n",
    "Limitation of BOW, TF-IDF ==> they have no notion of context/similarity relationships between words (Wordnet doesnt understand nuances)\n",
    "\n",
    "softmax = numbers to probability distribution\n",
    "\n",
    "NN structure \n",
    "input layer is one encoded\n",
    "Each word has 2 vector represantations - one as center vector and one as context vector"
   ]
  },
  {
   "cell_type": "code",
   "execution_count": 353,
   "metadata": {},
   "outputs": [
    {
     "name": "stdout",
     "output_type": "stream",
     "text": [
      "(20033,)\n",
      "(8586,)\n",
      "(20033,)\n",
      "(8586,)\n"
     ]
    }
   ],
   "source": [
    "print(X_train.shape)\n",
    "print(X_test.shape)\n",
    "print(y_train.shape)\n",
    "print(y_test.shape)"
   ]
  },
  {
   "cell_type": "code",
   "execution_count": 354,
   "metadata": {},
   "outputs": [
    {
     "name": "stdout",
     "output_type": "stream",
     "text": [
      "CPU times: user 39 ms, sys: 8.94 ms, total: 47.9 ms\n",
      "Wall time: 48.7 ms\n"
     ]
    }
   ],
   "source": [
    "%%time\n",
    "documents = [text.split() for text in X_train]"
   ]
  },
  {
   "cell_type": "code",
   "execution_count": 355,
   "metadata": {},
   "outputs": [
    {
     "data": {
      "text/plain": [
       "[[\"'very\",\n",
       "  'angry',\n",
       "  \"badger'\",\n",
       "  'seizes',\n",
       "  'part',\n",
       "  '500-year-old',\n",
       "  'scottish',\n",
       "  'castle'],\n",
       " ['comic-con', 'open', 'traditional', 'superhero', 'flyover'],\n",
       " ['divestment', '--', 'walk', 'away', 'make', 'difference'],\n",
       " ['area', '93-year-old', 'death-after-life', 'experience'],\n",
       " ['man',\n",
       "  'excite',\n",
       "  'give',\n",
       "  'visit',\n",
       "  'friend',\n",
       "  'real',\n",
       "  'fort',\n",
       "  'wayne',\n",
       "  'experience']]"
      ]
     },
     "execution_count": 355,
     "metadata": {},
     "output_type": "execute_result"
    }
   ],
   "source": [
    "documents[0:5]"
   ]
  },
  {
   "cell_type": "code",
   "execution_count": 356,
   "metadata": {},
   "outputs": [],
   "source": [
    "from gensim.models import Word2Vec\n",
    "\n",
    "w2v_model = Word2Vec(size = 300, window=5, min_count=2, workers=8)"
   ]
  },
  {
   "cell_type": "code",
   "execution_count": 357,
   "metadata": {},
   "outputs": [],
   "source": [
    "w2v_model.build_vocab(documents)"
   ]
  },
  {
   "cell_type": "code",
   "execution_count": 358,
   "metadata": {},
   "outputs": [
    {
     "name": "stdout",
     "output_type": "stream",
     "text": [
      "vocab size 11220\n"
     ]
    }
   ],
   "source": [
    "words = w2v_model.wv.vocab.keys()\n",
    "print('vocab size', len(words))"
   ]
  },
  {
   "cell_type": "code",
   "execution_count": 359,
   "metadata": {},
   "outputs": [
    {
     "name": "stdout",
     "output_type": "stream",
     "text": [
      "CPU times: user 24.7 s, sys: 395 ms, total: 25.1 s\n",
      "Wall time: 14.3 s\n"
     ]
    },
    {
     "data": {
      "text/plain": [
       "(4112479, 4691520)"
      ]
     },
     "execution_count": 359,
     "metadata": {},
     "output_type": "execute_result"
    }
   ],
   "source": [
    "%%time\n",
    "w2v_model.train(documents,total_examples=len(documents),epochs=32)"
   ]
  },
  {
   "cell_type": "code",
   "execution_count": 360,
   "metadata": {},
   "outputs": [
    {
     "name": "stderr",
     "output_type": "stream",
     "text": [
      "<ipython-input-360-c2264106d96e>:1: DeprecationWarning: Call to deprecated `most_similar` (Method will be removed in 4.0.0, use self.wv.most_similar() instead).\n",
      "  w2v_model.most_similar(\"comic-con\")\n"
     ]
    },
    {
     "data": {
      "text/plain": [
       "[('mic', 0.9778729677200317),\n",
       " ('practically', 0.9723999500274658),\n",
       " ('storyline', 0.972390353679657),\n",
       " ('space:', 0.9714941382408142),\n",
       " ('1999', 0.9713039398193359),\n",
       " ('intense', 0.970597505569458),\n",
       " ('cunning', 0.9697872996330261),\n",
       " ('superhero', 0.9682295918464661),\n",
       " ('cricket', 0.9660687446594238),\n",
       " ('blasting', 0.9660114049911499)]"
      ]
     },
     "execution_count": 360,
     "metadata": {},
     "output_type": "execute_result"
    }
   ],
   "source": [
    "w2v_model.most_similar(\"comic-con\")"
   ]
  },
  {
   "cell_type": "code",
   "execution_count": 361,
   "metadata": {},
   "outputs": [],
   "source": [
    "#w2v_model.wv.doesnt_match(['scottish', 'castle', 'superhero'])"
   ]
  },
  {
   "cell_type": "code",
   "execution_count": 362,
   "metadata": {},
   "outputs": [
    {
     "name": "stdout",
     "output_type": "stream",
     "text": [
      "Total words 22265\n",
      "CPU times: user 691 ms, sys: 9 ms, total: 700 ms\n",
      "Wall time: 1.17 s\n"
     ]
    }
   ],
   "source": [
    "%%time\n",
    "tokenizer = Tokenizer()\n",
    "tokenizer.fit_on_texts(X_train)\n",
    "\n",
    "vocab_size = len(tokenizer.word_index) + 1\n",
    "print(\"Total words\", vocab_size)"
   ]
  },
  {
   "cell_type": "code",
   "execution_count": 363,
   "metadata": {},
   "outputs": [],
   "source": [
    "X_train_w2v = pad_sequences(tokenizer.texts_to_sequences(X_train), maxlen=15)\n",
    "X_test_w2v = pad_sequences(tokenizer.texts_to_sequences(X_test), maxlen=15)"
   ]
  },
  {
   "cell_type": "code",
   "execution_count": 364,
   "metadata": {},
   "outputs": [
    {
     "data": {
      "text/html": [
       "<div>\n",
       "<style scoped>\n",
       "    .dataframe tbody tr th:only-of-type {\n",
       "        vertical-align: middle;\n",
       "    }\n",
       "\n",
       "    .dataframe tbody tr th {\n",
       "        vertical-align: top;\n",
       "    }\n",
       "\n",
       "    .dataframe thead th {\n",
       "        text-align: right;\n",
       "    }\n",
       "</style>\n",
       "<table border=\"1\" class=\"dataframe\">\n",
       "  <thead>\n",
       "    <tr style=\"text-align: right;\">\n",
       "      <th></th>\n",
       "      <th>0</th>\n",
       "      <th>1</th>\n",
       "      <th>2</th>\n",
       "      <th>3</th>\n",
       "      <th>4</th>\n",
       "      <th>5</th>\n",
       "      <th>6</th>\n",
       "      <th>7</th>\n",
       "      <th>8</th>\n",
       "      <th>9</th>\n",
       "      <th>10</th>\n",
       "      <th>11</th>\n",
       "      <th>12</th>\n",
       "      <th>13</th>\n",
       "      <th>14</th>\n",
       "    </tr>\n",
       "  </thead>\n",
       "  <tbody>\n",
       "    <tr>\n",
       "      <th>0</th>\n",
       "      <td>0</td>\n",
       "      <td>0</td>\n",
       "      <td>0</td>\n",
       "      <td>0</td>\n",
       "      <td>0</td>\n",
       "      <td>2454</td>\n",
       "      <td>2022</td>\n",
       "      <td>10907</td>\n",
       "      <td>6025</td>\n",
       "      <td>224</td>\n",
       "      <td>2023</td>\n",
       "      <td>7</td>\n",
       "      <td>23</td>\n",
       "      <td>4344</td>\n",
       "      <td>2639</td>\n",
       "    </tr>\n",
       "    <tr>\n",
       "      <th>1</th>\n",
       "      <td>0</td>\n",
       "      <td>0</td>\n",
       "      <td>0</td>\n",
       "      <td>0</td>\n",
       "      <td>0</td>\n",
       "      <td>0</td>\n",
       "      <td>0</td>\n",
       "      <td>0</td>\n",
       "      <td>0</td>\n",
       "      <td>1903</td>\n",
       "      <td>2298</td>\n",
       "      <td>142</td>\n",
       "      <td>2455</td>\n",
       "      <td>3122</td>\n",
       "      <td>7689</td>\n",
       "    </tr>\n",
       "    <tr>\n",
       "      <th>2</th>\n",
       "      <td>0</td>\n",
       "      <td>0</td>\n",
       "      <td>0</td>\n",
       "      <td>0</td>\n",
       "      <td>0</td>\n",
       "      <td>0</td>\n",
       "      <td>0</td>\n",
       "      <td>0</td>\n",
       "      <td>0</td>\n",
       "      <td>0</td>\n",
       "      <td>10908</td>\n",
       "      <td>313</td>\n",
       "      <td>237</td>\n",
       "      <td>6</td>\n",
       "      <td>1904</td>\n",
       "    </tr>\n",
       "    <tr>\n",
       "      <th>3</th>\n",
       "      <td>0</td>\n",
       "      <td>0</td>\n",
       "      <td>0</td>\n",
       "      <td>0</td>\n",
       "      <td>0</td>\n",
       "      <td>0</td>\n",
       "      <td>0</td>\n",
       "      <td>15</td>\n",
       "      <td>2845</td>\n",
       "      <td>7</td>\n",
       "      <td>23</td>\n",
       "      <td>72</td>\n",
       "      <td>4345</td>\n",
       "      <td>20</td>\n",
       "      <td>491</td>\n",
       "    </tr>\n",
       "    <tr>\n",
       "      <th>4</th>\n",
       "      <td>0</td>\n",
       "      <td>0</td>\n",
       "      <td>0</td>\n",
       "      <td>0</td>\n",
       "      <td>0</td>\n",
       "      <td>0</td>\n",
       "      <td>3</td>\n",
       "      <td>554</td>\n",
       "      <td>30</td>\n",
       "      <td>287</td>\n",
       "      <td>100</td>\n",
       "      <td>140</td>\n",
       "      <td>6026</td>\n",
       "      <td>4346</td>\n",
       "      <td>491</td>\n",
       "    </tr>\n",
       "    <tr>\n",
       "      <th>...</th>\n",
       "      <td>...</td>\n",
       "      <td>...</td>\n",
       "      <td>...</td>\n",
       "      <td>...</td>\n",
       "      <td>...</td>\n",
       "      <td>...</td>\n",
       "      <td>...</td>\n",
       "      <td>...</td>\n",
       "      <td>...</td>\n",
       "      <td>...</td>\n",
       "      <td>...</td>\n",
       "      <td>...</td>\n",
       "      <td>...</td>\n",
       "      <td>...</td>\n",
       "      <td>...</td>\n",
       "    </tr>\n",
       "    <tr>\n",
       "      <th>20028</th>\n",
       "      <td>0</td>\n",
       "      <td>0</td>\n",
       "      <td>0</td>\n",
       "      <td>0</td>\n",
       "      <td>0</td>\n",
       "      <td>0</td>\n",
       "      <td>0</td>\n",
       "      <td>0</td>\n",
       "      <td>2353</td>\n",
       "      <td>491</td>\n",
       "      <td>233</td>\n",
       "      <td>20</td>\n",
       "      <td>3449</td>\n",
       "      <td>445</td>\n",
       "      <td>162</td>\n",
       "    </tr>\n",
       "    <tr>\n",
       "      <th>20029</th>\n",
       "      <td>0</td>\n",
       "      <td>0</td>\n",
       "      <td>0</td>\n",
       "      <td>0</td>\n",
       "      <td>0</td>\n",
       "      <td>0</td>\n",
       "      <td>0</td>\n",
       "      <td>0</td>\n",
       "      <td>0</td>\n",
       "      <td>0</td>\n",
       "      <td>0</td>\n",
       "      <td>0</td>\n",
       "      <td>0</td>\n",
       "      <td>22262</td>\n",
       "      <td>694</td>\n",
       "    </tr>\n",
       "    <tr>\n",
       "      <th>20030</th>\n",
       "      <td>0</td>\n",
       "      <td>0</td>\n",
       "      <td>0</td>\n",
       "      <td>0</td>\n",
       "      <td>22263</td>\n",
       "      <td>4583</td>\n",
       "      <td>97</td>\n",
       "      <td>129</td>\n",
       "      <td>4029</td>\n",
       "      <td>324</td>\n",
       "      <td>1735</td>\n",
       "      <td>11</td>\n",
       "      <td>59</td>\n",
       "      <td>2689</td>\n",
       "      <td>54</td>\n",
       "    </tr>\n",
       "    <tr>\n",
       "      <th>20031</th>\n",
       "      <td>0</td>\n",
       "      <td>0</td>\n",
       "      <td>0</td>\n",
       "      <td>0</td>\n",
       "      <td>0</td>\n",
       "      <td>0</td>\n",
       "      <td>3190</td>\n",
       "      <td>186</td>\n",
       "      <td>16</td>\n",
       "      <td>6</td>\n",
       "      <td>60</td>\n",
       "      <td>8</td>\n",
       "      <td>2518</td>\n",
       "      <td>66</td>\n",
       "      <td>11</td>\n",
       "    </tr>\n",
       "    <tr>\n",
       "      <th>20032</th>\n",
       "      <td>0</td>\n",
       "      <td>0</td>\n",
       "      <td>0</td>\n",
       "      <td>0</td>\n",
       "      <td>0</td>\n",
       "      <td>0</td>\n",
       "      <td>0</td>\n",
       "      <td>0</td>\n",
       "      <td>5231</td>\n",
       "      <td>1217</td>\n",
       "      <td>663</td>\n",
       "      <td>22264</td>\n",
       "      <td>6022</td>\n",
       "      <td>2089</td>\n",
       "      <td>1006</td>\n",
       "    </tr>\n",
       "  </tbody>\n",
       "</table>\n",
       "<p>20033 rows × 15 columns</p>\n",
       "</div>"
      ],
      "text/plain": [
       "       0  1  2  3      4     5     6      7     8     9     10     11    12  \\\n",
       "0      0  0  0  0      0  2454  2022  10907  6025   224   2023      7    23   \n",
       "1      0  0  0  0      0     0     0      0     0  1903   2298    142  2455   \n",
       "2      0  0  0  0      0     0     0      0     0     0  10908    313   237   \n",
       "3      0  0  0  0      0     0     0     15  2845     7     23     72  4345   \n",
       "4      0  0  0  0      0     0     3    554    30   287    100    140  6026   \n",
       "...   .. .. .. ..    ...   ...   ...    ...   ...   ...    ...    ...   ...   \n",
       "20028  0  0  0  0      0     0     0      0  2353   491    233     20  3449   \n",
       "20029  0  0  0  0      0     0     0      0     0     0      0      0     0   \n",
       "20030  0  0  0  0  22263  4583    97    129  4029   324   1735     11    59   \n",
       "20031  0  0  0  0      0     0  3190    186    16     6     60      8  2518   \n",
       "20032  0  0  0  0      0     0     0      0  5231  1217    663  22264  6022   \n",
       "\n",
       "          13    14  \n",
       "0       4344  2639  \n",
       "1       3122  7689  \n",
       "2          6  1904  \n",
       "3         20   491  \n",
       "4       4346   491  \n",
       "...      ...   ...  \n",
       "20028    445   162  \n",
       "20029  22262   694  \n",
       "20030   2689    54  \n",
       "20031     66    11  \n",
       "20032   2089  1006  \n",
       "\n",
       "[20033 rows x 15 columns]"
      ]
     },
     "execution_count": 364,
     "metadata": {},
     "output_type": "execute_result"
    }
   ],
   "source": [
    "pd.DataFrame(X_train_w2v)"
   ]
  },
  {
   "cell_type": "code",
   "execution_count": 365,
   "metadata": {},
   "outputs": [
    {
     "name": "stdout",
     "output_type": "stream",
     "text": [
      "X_train (20033, 15)\n",
      "y_train (20033,)\n",
      "\n",
      "X_test (8586, 15)\n",
      "y_val (8586,)\n"
     ]
    }
   ],
   "source": [
    "print(\"X_train\", X_train_w2v.shape)\n",
    "print(\"y_train\", y_train.shape)\n",
    "print()\n",
    "print(\"X_test\", X_test_w2v.shape)\n",
    "print(\"y_val\", y_test.shape)"
   ]
  },
  {
   "cell_type": "code",
   "execution_count": 366,
   "metadata": {},
   "outputs": [],
   "source": [
    "embedding_matrix = np.zeros((vocab_size, 300))\n",
    "for word, i in tokenizer.word_index.items():\n",
    "    if word in w2v_model.wv:\n",
    "        embedding_matrix[i] = w2v_model.wv[word]"
   ]
  },
  {
   "cell_type": "code",
   "execution_count": 367,
   "metadata": {},
   "outputs": [
    {
     "name": "stdout",
     "output_type": "stream",
     "text": [
      "(22265, 300)\n"
     ]
    }
   ],
   "source": [
    "print(embedding_matrix.shape)"
   ]
  },
  {
   "cell_type": "code",
   "execution_count": 368,
   "metadata": {},
   "outputs": [],
   "source": [
    "embedding_layer = Embedding(vocab_size, 300, weights=[embedding_matrix], input_length=15, trainable=False)"
   ]
  },
  {
   "cell_type": "code",
   "execution_count": 369,
   "metadata": {},
   "outputs": [
    {
     "name": "stdout",
     "output_type": "stream",
     "text": [
      "Model: \"sequential_12\"\n",
      "_________________________________________________________________\n",
      "Layer (type)                 Output Shape              Param #   \n",
      "=================================================================\n",
      "embedding_12 (Embedding)     (None, 15, 300)           6679500   \n",
      "_________________________________________________________________\n",
      "dropout_12 (Dropout)         (None, 15, 300)           0         \n",
      "_________________________________________________________________\n",
      "lstm_12 (LSTM)               (None, 64)                93440     \n",
      "_________________________________________________________________\n",
      "dense_12 (Dense)             (None, 1)                 65        \n",
      "=================================================================\n",
      "Total params: 6,773,005\n",
      "Trainable params: 93,505\n",
      "Non-trainable params: 6,679,500\n",
      "_________________________________________________________________\n"
     ]
    }
   ],
   "source": [
    "model = Sequential()\n",
    "model.add(embedding_layer)\n",
    "model.add(Dropout(0.2))\n",
    "model.add(LSTM(64, dropout=0.2, recurrent_dropout=0.2))\n",
    "model.add(Dense(1, activation='sigmoid'))\n",
    "\n",
    "model.summary()"
   ]
  },
  {
   "cell_type": "code",
   "execution_count": 370,
   "metadata": {},
   "outputs": [],
   "source": [
    "model.compile(loss='binary_crossentropy',\n",
    "              optimizer=\"adam\",\n",
    "              metrics=['accuracy'])"
   ]
  },
  {
   "cell_type": "code",
   "execution_count": 371,
   "metadata": {},
   "outputs": [],
   "source": [
    "from keras.callbacks import ReduceLROnPlateau, EarlyStopping\n",
    "\n",
    "\n",
    "callbacks = [ ReduceLROnPlateau(monitor='val_loss', patience=5, cooldown=0),\n",
    "              EarlyStopping(monitor='val_acc', min_delta=1e-4, patience=5)]"
   ]
  },
  {
   "cell_type": "code",
   "execution_count": 372,
   "metadata": {},
   "outputs": [],
   "source": [
    "from keras.models import Sequential\n",
    "from keras.layers import Activation, Dense, Dropout, Embedding, Flatten, Conv1D, MaxPooling1D, LSTM"
   ]
  },
  {
   "cell_type": "code",
   "execution_count": 373,
   "metadata": {},
   "outputs": [
    {
     "name": "stdout",
     "output_type": "stream",
     "text": [
      "Train on 20033 samples, validate on 8586 samples\n",
      "Epoch 1/10\n",
      "20033/20033 [==============================] - 9s 473us/step - loss: 0.5964 - accuracy: 0.6667 - val_loss: 0.5627 - val_accuracy: 0.7009\n",
      "Epoch 2/10\n",
      "  512/20033 [..............................] - ETA: 7s - loss: 0.5711 - accuracy: 0.7070"
     ]
    },
    {
     "name": "stderr",
     "output_type": "stream",
     "text": [
      "/Library/Frameworks/Python.framework/Versions/3.8/lib/python3.8/site-packages/keras/callbacks/callbacks.py:843: RuntimeWarning: Early stopping conditioned on metric `val_acc` which is not available. Available metrics are: val_loss,val_accuracy,loss,accuracy,lr\n",
      "  warnings.warn(\n"
     ]
    },
    {
     "name": "stdout",
     "output_type": "stream",
     "text": [
      "20033/20033 [==============================] - 8s 387us/step - loss: 0.5495 - accuracy: 0.7119 - val_loss: 0.5342 - val_accuracy: 0.7171\n",
      "Epoch 3/10\n",
      "20033/20033 [==============================] - 10s 487us/step - loss: 0.5358 - accuracy: 0.7229 - val_loss: 0.5290 - val_accuracy: 0.7202\n",
      "Epoch 4/10\n",
      "20033/20033 [==============================] - 8s 420us/step - loss: 0.5279 - accuracy: 0.7253 - val_loss: 0.5361 - val_accuracy: 0.7214\n",
      "Epoch 5/10\n",
      "20033/20033 [==============================] - 7s 354us/step - loss: 0.5164 - accuracy: 0.7330 - val_loss: 0.5116 - val_accuracy: 0.7370\n",
      "Epoch 6/10\n",
      "20033/20033 [==============================] - 6s 302us/step - loss: 0.5102 - accuracy: 0.7397 - val_loss: 0.5033 - val_accuracy: 0.7421\n",
      "Epoch 7/10\n",
      "20033/20033 [==============================] - 6s 300us/step - loss: 0.5029 - accuracy: 0.7468 - val_loss: 0.4993 - val_accuracy: 0.7471\n",
      "Epoch 8/10\n",
      "20033/20033 [==============================] - 9s 460us/step - loss: 0.4942 - accuracy: 0.7482 - val_loss: 0.4981 - val_accuracy: 0.7471\n",
      "Epoch 9/10\n",
      "20033/20033 [==============================] - 10s 493us/step - loss: 0.4913 - accuracy: 0.7536 - val_loss: 0.4916 - val_accuracy: 0.7511\n",
      "Epoch 10/10\n",
      "20033/20033 [==============================] - 9s 468us/step - loss: 0.4838 - accuracy: 0.7587 - val_loss: 0.4889 - val_accuracy: 0.7532\n",
      "CPU times: user 2min 20s, sys: 39.8 s, total: 3min\n",
      "Wall time: 1min 25s\n"
     ]
    }
   ],
   "source": [
    "%%time\n",
    "history = model.fit(X_train_w2v, y_train,\n",
    "                    batch_size=256,\n",
    "                    epochs=10,\n",
    "                    validation_data = (X_test_w2v,y_test),\n",
    "                    verbose=1,\n",
    "                    callbacks=callbacks)"
   ]
  },
  {
   "cell_type": "code",
   "execution_count": 374,
   "metadata": {},
   "outputs": [
    {
     "name": "stdout",
     "output_type": "stream",
     "text": [
      "8586/8586 [==============================] - 2s 235us/step\n",
      "\n",
      "ACCURACY: 0.7532029151916504\n",
      "LOSS: 0.4888683360910849\n"
     ]
    }
   ],
   "source": [
    "score = model.evaluate(X_test_w2v, y_test, batch_size=32)\n",
    "print()\n",
    "print(\"ACCURACY:\",score[1])\n",
    "print(\"LOSS:\",score[0])"
   ]
  },
  {
   "cell_type": "markdown",
   "metadata": {},
   "source": [
    "<h2> 7. GloVe </h2>"
   ]
  },
  {
   "cell_type": "code",
   "execution_count": null,
   "metadata": {},
   "outputs": [],
   "source": []
  }
 ],
 "metadata": {
  "kernelspec": {
   "display_name": "Python 3",
   "language": "python",
   "name": "python3"
  },
  "language_info": {
   "codemirror_mode": {
    "name": "ipython",
    "version": 3
   },
   "file_extension": ".py",
   "mimetype": "text/x-python",
   "name": "python",
   "nbconvert_exporter": "python",
   "pygments_lexer": "ipython3",
   "version": "3.8.1"
  }
 },
 "nbformat": 4,
 "nbformat_minor": 4
}
